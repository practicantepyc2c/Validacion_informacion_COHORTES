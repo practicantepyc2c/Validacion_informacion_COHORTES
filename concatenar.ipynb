{
 "cells": [
  {
   "cell_type": "code",
   "execution_count": 22,
   "metadata": {},
   "outputs": [],
   "source": [
    "import pandas as pd\n",
    "from pandas import concat\n",
    "from pandas import ExcelWriter\n",
    "import numpy as np\n",
    "import os\n",
    "from pathlib import Path\n",
    "path = 'Parametricas\\Consolidado.xlsx'\n",
    "carpeta = 'Archivo_correctos'"
   ]
  },
  {
   "cell_type": "code",
   "execution_count": 23,
   "metadata": {},
   "outputs": [
    {
     "name": "stderr",
     "output_type": "stream",
     "text": [
      "C:\\Users\\Camilo\\AppData\\Local\\Temp\\ipykernel_12236\\3349979483.py:9: FutureWarning: The frame.append method is deprecated and will be removed from pandas in a future version. Use pandas.concat instead.\n",
      "  df = df.append(pd.read_excel(Path(carpeta,fichero)),ignore_index=True)\n",
      "C:\\Users\\Camilo\\AppData\\Local\\Temp\\ipykernel_12236\\3349979483.py:9: FutureWarning: The frame.append method is deprecated and will be removed from pandas in a future version. Use pandas.concat instead.\n",
      "  df = df.append(pd.read_excel(Path(carpeta,fichero)),ignore_index=True)\n",
      "C:\\Users\\Camilo\\AppData\\Local\\Temp\\ipykernel_12236\\3349979483.py:9: FutureWarning: The frame.append method is deprecated and will be removed from pandas in a future version. Use pandas.concat instead.\n",
      "  df = df.append(pd.read_excel(Path(carpeta,fichero)),ignore_index=True)\n",
      "C:\\Users\\Camilo\\AppData\\Local\\Temp\\ipykernel_12236\\3349979483.py:9: FutureWarning: The frame.append method is deprecated and will be removed from pandas in a future version. Use pandas.concat instead.\n",
      "  df = df.append(pd.read_excel(Path(carpeta,fichero)),ignore_index=True)\n",
      "C:\\Users\\Camilo\\AppData\\Local\\Temp\\ipykernel_12236\\3349979483.py:9: FutureWarning: The frame.append method is deprecated and will be removed from pandas in a future version. Use pandas.concat instead.\n",
      "  df = df.append(pd.read_excel(Path(carpeta,fichero)),ignore_index=True)\n"
     ]
    }
   ],
   "source": [
    "from operator import index\n",
    "\n",
    "\n",
    "ficheros = os.listdir(carpeta)\n",
    "## Method 1 gets the first sheet of a given file\n",
    "df = pd.DataFrame()\n",
    "for fichero in ficheros:\n",
    "    if fichero.endswith('.xlsx'):\n",
    "        df = df.append(pd.read_excel(Path(carpeta,fichero)),ignore_index=True) \n",
    "df.head()  \n",
    "df.to_excel('consolidado.xlsx',index=False)\n",
    "# print(ficheros[len(ficheros)-1],ficheros[len(ficheros)-2])\n",
    "# fichero1 = Path(carpeta,ficheros[len(ficheros)-1])\n",
    "# fichero2 = Path(carpeta,ficheros[len(ficheros)-2])\n",
    "# df1 = pd.read_excel(path)\n",
    "# df2 = pd.read_excel(fichero1)\n",
    "# df3 = pd.read_excel(fichero2)\n",
    "# df4 = pd.concat([df1,df2,df3],axis=0)"
   ]
  },
  {
   "cell_type": "code",
   "execution_count": 24,
   "metadata": {},
   "outputs": [],
   "source": [
    "# writer = ExcelWriter(path)\n",
    "# df3.to_excel(writer,'concatenacion',index=False)\n",
    "# writer.save()"
   ]
  }
 ],
 "metadata": {
  "kernelspec": {
   "display_name": "Python 3.10.7 ('venv': venv)",
   "language": "python",
   "name": "python3"
  },
  "language_info": {
   "codemirror_mode": {
    "name": "ipython",
    "version": 3
   },
   "file_extension": ".py",
   "mimetype": "text/x-python",
   "name": "python",
   "nbconvert_exporter": "python",
   "pygments_lexer": "ipython3",
   "version": "3.10.7"
  },
  "orig_nbformat": 4,
  "vscode": {
   "interpreter": {
    "hash": "21232d1809a86168236ce15edd4a5580953c67267a9541ae3b8372d517e79e71"
   }
  }
 },
 "nbformat": 4,
 "nbformat_minor": 2
}
